{
 "cells": [
  {
   "cell_type": "code",
   "execution_count": 1,
   "id": "c0bcea4b",
   "metadata": {},
   "outputs": [],
   "source": [
    "import warnings\n",
    "warnings.filterwarnings('ignore')\n",
    "\n",
    "import graphviz\n",
    "import os\n",
    "import numpy as np\n",
    "import pandas as pd\n",
    "from preprocess_data import preprocess_titanic_data"
   ]
  },
  {
   "cell_type": "code",
   "execution_count": 2,
   "id": "e70eac40",
   "metadata": {},
   "outputs": [],
   "source": [
    "df = pd.read_csv('data/train.csv')"
   ]
  },
  {
   "cell_type": "code",
   "execution_count": 3,
   "id": "75d1f937",
   "metadata": {},
   "outputs": [],
   "source": [
    "df_trn, df_tst = preprocess_titanic_data(df)"
   ]
  },
  {
   "cell_type": "code",
   "execution_count": 4,
   "id": "8ca3c0e9",
   "metadata": {},
   "outputs": [
    {
     "data": {
      "text/html": [
       "<div>\n",
       "<style scoped>\n",
       "    .dataframe tbody tr th:only-of-type {\n",
       "        vertical-align: middle;\n",
       "    }\n",
       "\n",
       "    .dataframe tbody tr th {\n",
       "        vertical-align: top;\n",
       "    }\n",
       "\n",
       "    .dataframe thead th {\n",
       "        text-align: right;\n",
       "    }\n",
       "</style>\n",
       "<table border=\"1\" class=\"dataframe\">\n",
       "  <thead>\n",
       "    <tr style=\"text-align: right;\">\n",
       "      <th></th>\n",
       "      <th>SibSp</th>\n",
       "      <th>Parch</th>\n",
       "      <th>Fare</th>\n",
       "      <th>Age</th>\n",
       "      <th>Pclass</th>\n",
       "      <th>Sex</th>\n",
       "      <th>Survived</th>\n",
       "    </tr>\n",
       "  </thead>\n",
       "  <tbody>\n",
       "    <tr>\n",
       "      <th>276</th>\n",
       "      <td>0.0</td>\n",
       "      <td>0.0</td>\n",
       "      <td>7.7500</td>\n",
       "      <td>group3</td>\n",
       "      <td>3</td>\n",
       "      <td>female</td>\n",
       "      <td>0</td>\n",
       "    </tr>\n",
       "    <tr>\n",
       "      <th>366</th>\n",
       "      <td>1.0</td>\n",
       "      <td>0.0</td>\n",
       "      <td>75.2500</td>\n",
       "      <td>group4</td>\n",
       "      <td>1</td>\n",
       "      <td>female</td>\n",
       "      <td>1</td>\n",
       "    </tr>\n",
       "    <tr>\n",
       "      <th>257</th>\n",
       "      <td>0.0</td>\n",
       "      <td>0.0</td>\n",
       "      <td>86.5000</td>\n",
       "      <td>group3</td>\n",
       "      <td>1</td>\n",
       "      <td>female</td>\n",
       "      <td>1</td>\n",
       "    </tr>\n",
       "    <tr>\n",
       "      <th>824</th>\n",
       "      <td>4.0</td>\n",
       "      <td>1.0</td>\n",
       "      <td>39.6875</td>\n",
       "      <td>group1</td>\n",
       "      <td>3</td>\n",
       "      <td>male</td>\n",
       "      <td>0</td>\n",
       "    </tr>\n",
       "    <tr>\n",
       "      <th>766</th>\n",
       "      <td>0.0</td>\n",
       "      <td>0.0</td>\n",
       "      <td>39.6000</td>\n",
       "      <td>group2</td>\n",
       "      <td>1</td>\n",
       "      <td>male</td>\n",
       "      <td>0</td>\n",
       "    </tr>\n",
       "  </tbody>\n",
       "</table>\n",
       "</div>"
      ],
      "text/plain": [
       "     SibSp  Parch     Fare     Age  Pclass     Sex  Survived\n",
       "276    0.0    0.0   7.7500  group3       3  female         0\n",
       "366    1.0    0.0  75.2500  group4       1  female         1\n",
       "257    0.0    0.0  86.5000  group3       1  female         1\n",
       "824    4.0    1.0  39.6875  group1       3    male         0\n",
       "766    0.0    0.0  39.6000  group2       1    male         0"
      ]
     },
     "execution_count": 4,
     "metadata": {},
     "output_type": "execute_result"
    }
   ],
   "source": [
    "df_trn.head()"
   ]
  },
  {
   "cell_type": "code",
   "execution_count": 5,
   "id": "9a8a0f1c",
   "metadata": {},
   "outputs": [
    {
     "data": {
      "text/html": [
       "<div>\n",
       "<style scoped>\n",
       "    .dataframe tbody tr th:only-of-type {\n",
       "        vertical-align: middle;\n",
       "    }\n",
       "\n",
       "    .dataframe tbody tr th {\n",
       "        vertical-align: top;\n",
       "    }\n",
       "\n",
       "    .dataframe thead th {\n",
       "        text-align: right;\n",
       "    }\n",
       "</style>\n",
       "<table border=\"1\" class=\"dataframe\">\n",
       "  <thead>\n",
       "    <tr style=\"text-align: right;\">\n",
       "      <th></th>\n",
       "      <th>SibSp</th>\n",
       "      <th>Parch</th>\n",
       "      <th>Fare</th>\n",
       "      <th>Age</th>\n",
       "      <th>Pclass</th>\n",
       "      <th>Sex</th>\n",
       "      <th>Survived</th>\n",
       "    </tr>\n",
       "  </thead>\n",
       "  <tbody>\n",
       "    <tr>\n",
       "      <th>184</th>\n",
       "      <td>0.0</td>\n",
       "      <td>2.0</td>\n",
       "      <td>22.0250</td>\n",
       "      <td>group1</td>\n",
       "      <td>3</td>\n",
       "      <td>female</td>\n",
       "      <td>1</td>\n",
       "    </tr>\n",
       "    <tr>\n",
       "      <th>874</th>\n",
       "      <td>1.0</td>\n",
       "      <td>0.0</td>\n",
       "      <td>24.0000</td>\n",
       "      <td>group2</td>\n",
       "      <td>2</td>\n",
       "      <td>female</td>\n",
       "      <td>1</td>\n",
       "    </tr>\n",
       "    <tr>\n",
       "      <th>628</th>\n",
       "      <td>0.0</td>\n",
       "      <td>0.0</td>\n",
       "      <td>7.8958</td>\n",
       "      <td>group2</td>\n",
       "      <td>3</td>\n",
       "      <td>male</td>\n",
       "      <td>0</td>\n",
       "    </tr>\n",
       "    <tr>\n",
       "      <th>637</th>\n",
       "      <td>1.0</td>\n",
       "      <td>1.0</td>\n",
       "      <td>26.2500</td>\n",
       "      <td>group3</td>\n",
       "      <td>2</td>\n",
       "      <td>male</td>\n",
       "      <td>0</td>\n",
       "    </tr>\n",
       "    <tr>\n",
       "      <th>747</th>\n",
       "      <td>0.0</td>\n",
       "      <td>0.0</td>\n",
       "      <td>13.0000</td>\n",
       "      <td>group3</td>\n",
       "      <td>2</td>\n",
       "      <td>female</td>\n",
       "      <td>1</td>\n",
       "    </tr>\n",
       "  </tbody>\n",
       "</table>\n",
       "</div>"
      ],
      "text/plain": [
       "     SibSp  Parch     Fare     Age  Pclass     Sex  Survived\n",
       "184    0.0    2.0  22.0250  group1       3  female         1\n",
       "874    1.0    0.0  24.0000  group2       2  female         1\n",
       "628    0.0    0.0   7.8958  group2       3    male         0\n",
       "637    1.0    1.0  26.2500  group3       2    male         0\n",
       "747    0.0    0.0  13.0000  group3       2  female         1"
      ]
     },
     "execution_count": 5,
     "metadata": {},
     "output_type": "execute_result"
    }
   ],
   "source": [
    "df_tst.head()"
   ]
  },
  {
   "cell_type": "code",
   "execution_count": 6,
   "id": "731f080d",
   "metadata": {},
   "outputs": [],
   "source": [
    "df_trn['Age'] = df_trn['Age'].apply(lambda x: x[-1])\n",
    "df_tst['Age'] = df_tst['Age'].apply(lambda x: x[-1])"
   ]
  },
  {
   "cell_type": "code",
   "execution_count": 7,
   "id": "6a601e71",
   "metadata": {},
   "outputs": [],
   "source": [
    "sex_dict = {'female': '0', 'male': '1'}\n",
    "df_trn['Sex'] = df_trn['Sex'].apply(lambda x: sex_dict[x])\n",
    "df_tst['Sex'] = df_tst['Sex'].apply(lambda x: sex_dict[x])"
   ]
  },
  {
   "cell_type": "code",
   "execution_count": 8,
   "id": "b50df001",
   "metadata": {},
   "outputs": [],
   "source": [
    "df_trn['Pclass'] = df_trn['Pclass'].astype('O')\n",
    "df_tst['Pclass'] = df_tst['Pclass'].astype('O')\n",
    "df_trn['Age'] = df_trn['Age'].astype('O')\n",
    "df_tst['Age'] = df_tst['Age'].astype('O')\n",
    "df_trn['Sex'] = df_trn['Sex'].astype('O')\n",
    "df_tst['Sex'] = df_tst['Sex'].astype('O')"
   ]
  },
  {
   "cell_type": "markdown",
   "id": "0c2463b0",
   "metadata": {},
   "source": [
    "<span style = 'font-size:1.3em;line-height:1.5em'><b>1. </b>위와 같이 전처리된 Titanic dataset을 활용하여 Decision Tree 모델을 학습하고자 합니다. 다음 Process를 수행하세요.</span>\n",
    "- <span style = 'font-size:1.2em;line-height:1.5em'><b>(1) </b>5-fold Cross validation을 수행했을 때, 평균 accuracy를 구하세요.</span>\n",
    "- <span style = 'font-size:1.2em;line-height:1.5em'><b>(2) </b>아래 `params`라는 dict에 들어있는 hyperparameter 중, 최적의 조합을 찾고자 합니다.(Random하게) Accuracy를 기준으로 하였을 때, 최적의 model을 찾으세요. 또한, 최적의 모델을 test set(`df_tst`)에 활용하였을 때, accuracy를 구하세요.</span>\n",
    "- <span style = 'font-size:1.2em;line-height:1.5em'><b>(3) </b>최적 Decision Tree model을 graphviz를 활용하여 시각화하세요.</span>\n",
    "- <span style = 'font-size:1.2em;line-height:1.5em'><b>(4) </b>변수 중요도를 구하세요./span>"
   ]
  },
  {
   "cell_type": "code",
   "execution_count": 9,
   "id": "ee7e6e7c",
   "metadata": {},
   "outputs": [],
   "source": [
    "from sklearn.tree import DecisionTreeClassifier\n",
    "from sklearn.tree import export_graphviz\n",
    "from sklearn.model_selection import cross_val_score\n",
    "from sklearn.model_selection import RandomizedSearchCV\n",
    "from sklearn.metrics import accuracy_score\n",
    "from sklearn.metrics import precision_score\n",
    "from sklearn.metrics import recall_score\n",
    "from sklearn.metrics import f1_score\n",
    "from sklearn.metrics import confusion_matrix"
   ]
  },
  {
   "cell_type": "markdown",
   "id": "e2a07070",
   "metadata": {},
   "source": [
    "### (1) 5-fold Cross validation을 수행했을 때, 평균 accuracy"
   ]
  },
  {
   "cell_type": "code",
   "execution_count": 10,
   "id": "594926fa",
   "metadata": {},
   "outputs": [
    {
     "name": "stdout",
     "output_type": "stream",
     "text": [
      "평균 CV accuracy: 0.785\n"
     ]
    }
   ],
   "source": [
    "model = DecisionTreeClassifier()\n",
    "scores = cross_val_score(model, X=df_trn.iloc[:,:-1], y=df_trn.iloc[:,-1])\n",
    "print(f\"평균 CV accuracy: {np.mean(scores):.3f}\")"
   ]
  },
  {
   "cell_type": "code",
   "execution_count": 11,
   "id": "b3c15352",
   "metadata": {},
   "outputs": [
    {
     "data": {
      "text/plain": [
       "array([0.7972028 , 0.79020979, 0.8028169 , 0.76056338, 0.77464789])"
      ]
     },
     "execution_count": 11,
     "metadata": {},
     "output_type": "execute_result"
    }
   ],
   "source": [
    "scores"
   ]
  },
  {
   "cell_type": "markdown",
   "id": "655a6b23",
   "metadata": {},
   "source": [
    "### (2) 최적 hyperparameter조합을 찾고, 해당 모델을 test set에 활용했을 때 accuracy 구하기"
   ]
  },
  {
   "cell_type": "code",
   "execution_count": 12,
   "id": "c59de3ac",
   "metadata": {},
   "outputs": [],
   "source": [
    "params = {\n",
    "    'criterion': ['entropy', 'gini'],\n",
    "    'splitter': ['random', 'best'],\n",
    "    'max_depth': [None,2,3,4,5],\n",
    "    'min_samples_split': [2,3,4,5,6,8,10],\n",
    "    'max_leaf_nodes': [None, 3,6,9,12],\n",
    "    'min_impurity_decrease': [0.0, 0.0005, 0.005, 0.05, 0.1, 0.15, 0.2]\n",
    "}"
   ]
  },
  {
   "cell_type": "code",
   "execution_count": 13,
   "id": "1fe4aa58",
   "metadata": {},
   "outputs": [
    {
     "name": "stdout",
     "output_type": "stream",
     "text": [
      "The best performance (in CV) is 0.824\n"
     ]
    }
   ],
   "source": [
    "model = DecisionTreeClassifier()\n",
    "rand_clf = RandomizedSearchCV(model, params, n_iter=20, cv=5)\n",
    "rand_clf.fit(X=df_trn.iloc[:,:-1], y=df_trn.iloc[:,-1])\n",
    "best_model = rand_clf.best_estimator_\n",
    "best_score = rand_clf.best_score_\n",
    "\n",
    "print(f\"The best performance (in CV) is {best_score:.3f}\")"
   ]
  },
  {
   "cell_type": "markdown",
   "id": "67713b97",
   "metadata": {},
   "source": [
    "- <span style = 'font-size:1.2em;line-height:1.5em'>최적의 parameter 조합으로 만들어진 모델을 test set에 적용했을 때 성능 측정하기</span>"
   ]
  },
  {
   "cell_type": "code",
   "execution_count": 14,
   "id": "7854e9d0",
   "metadata": {},
   "outputs": [
    {
     "name": "stdout",
     "output_type": "stream",
     "text": [
      "The accuracy score of the selected model in the test set is 0.838\n"
     ]
    }
   ],
   "source": [
    "y_pred = best_model.predict(df_tst.iloc[:,:-1])\n",
    "y_true = df_tst.iloc[:,-1]\n",
    "acc = accuracy_score(y_true = y_true, y_pred=y_pred)\n",
    "print(f\"The accuracy score of the selected model in the test set is {acc:.3f}\")"
   ]
  },
  {
   "cell_type": "code",
   "execution_count": 15,
   "id": "0f025b9b",
   "metadata": {},
   "outputs": [
    {
     "data": {
      "text/plain": [
       "array([[95, 15],\n",
       "       [14, 55]], dtype=int64)"
      ]
     },
     "execution_count": 15,
     "metadata": {},
     "output_type": "execute_result"
    }
   ],
   "source": [
    "confusion_matrix(y_true, y_pred)"
   ]
  },
  {
   "cell_type": "markdown",
   "id": "3b20ee7d",
   "metadata": {},
   "source": [
    "### Decision Tree 시각화하기"
   ]
  },
  {
   "cell_type": "code",
   "execution_count": 16,
   "id": "13dc664b",
   "metadata": {},
   "outputs": [],
   "source": [
    "from sklearn.tree import export_graphviz"
   ]
  },
  {
   "cell_type": "code",
   "execution_count": 17,
   "id": "d05839ed",
   "metadata": {},
   "outputs": [
    {
     "data": {
      "image/svg+xml": [
       "<?xml version=\"1.0\" encoding=\"UTF-8\" standalone=\"no\"?>\n",
       "<!DOCTYPE svg PUBLIC \"-//W3C//DTD SVG 1.1//EN\"\n",
       " \"http://www.w3.org/Graphics/SVG/1.1/DTD/svg11.dtd\">\n",
       "<!-- Generated by graphviz version 2.50.0 (0)\n",
       " -->\n",
       "<!-- Title: Tree Pages: 1 -->\n",
       "<svg width=\"745pt\" height=\"373pt\"\n",
       " viewBox=\"0.00 0.00 745.00 373.00\" xmlns=\"http://www.w3.org/2000/svg\" xmlns:xlink=\"http://www.w3.org/1999/xlink\">\n",
       "<g id=\"graph0\" class=\"graph\" transform=\"scale(1 1) rotate(0) translate(4 369)\">\n",
       "<title>Tree</title>\n",
       "<polygon fill=\"white\" stroke=\"transparent\" points=\"-4,4 -4,-369 741,-369 741,4 -4,4\"/>\n",
       "<!-- 0 -->\n",
       "<g id=\"node1\" class=\"node\">\n",
       "<title>0</title>\n",
       "<polygon fill=\"#f5cfb4\" stroke=\"black\" points=\"312,-365 187,-365 187,-297 312,-297 312,-365\"/>\n",
       "<text text-anchor=\"middle\" x=\"249.5\" y=\"-349.8\" font-family=\"Helvetica,sans-Serif\" font-size=\"14.00\">Sex &lt;= 0.5</text>\n",
       "<text text-anchor=\"middle\" x=\"249.5\" y=\"-334.8\" font-family=\"Helvetica,sans-Serif\" font-size=\"14.00\">gini = 0.473</text>\n",
       "<text text-anchor=\"middle\" x=\"249.5\" y=\"-319.8\" font-family=\"Helvetica,sans-Serif\" font-size=\"14.00\">samples = 712</text>\n",
       "<text text-anchor=\"middle\" x=\"249.5\" y=\"-304.8\" font-family=\"Helvetica,sans-Serif\" font-size=\"14.00\">value = [439, 273]</text>\n",
       "</g>\n",
       "<!-- 1 -->\n",
       "<g id=\"node2\" class=\"node\">\n",
       "<title>1</title>\n",
       "<polygon fill=\"#7ebfee\" stroke=\"black\" points=\"241,-261 124,-261 124,-193 241,-193 241,-261\"/>\n",
       "<text text-anchor=\"middle\" x=\"182.5\" y=\"-245.8\" font-family=\"Helvetica,sans-Serif\" font-size=\"14.00\">Pclass &lt;= 2.5</text>\n",
       "<text text-anchor=\"middle\" x=\"182.5\" y=\"-230.8\" font-family=\"Helvetica,sans-Serif\" font-size=\"14.00\">gini = 0.384</text>\n",
       "<text text-anchor=\"middle\" x=\"182.5\" y=\"-215.8\" font-family=\"Helvetica,sans-Serif\" font-size=\"14.00\">samples = 247</text>\n",
       "<text text-anchor=\"middle\" x=\"182.5\" y=\"-200.8\" font-family=\"Helvetica,sans-Serif\" font-size=\"14.00\">value = [64, 183]</text>\n",
       "</g>\n",
       "<!-- 0&#45;&gt;1 -->\n",
       "<g id=\"edge1\" class=\"edge\">\n",
       "<title>0&#45;&gt;1</title>\n",
       "<path fill=\"none\" stroke=\"black\" d=\"M227.75,-296.88C222.07,-288.24 215.88,-278.82 209.95,-269.79\"/>\n",
       "<polygon fill=\"black\" stroke=\"black\" points=\"212.79,-267.74 204.37,-261.3 206.94,-271.58 212.79,-267.74\"/>\n",
       "<text text-anchor=\"middle\" x=\"199.3\" y=\"-282.08\" font-family=\"Helvetica,sans-Serif\" font-size=\"14.00\">True</text>\n",
       "</g>\n",
       "<!-- 2 -->\n",
       "<g id=\"node7\" class=\"node\">\n",
       "<title>2</title>\n",
       "<polygon fill=\"#eb9f69\" stroke=\"black\" points=\"425,-261 308,-261 308,-193 425,-193 425,-261\"/>\n",
       "<text text-anchor=\"middle\" x=\"366.5\" y=\"-245.8\" font-family=\"Helvetica,sans-Serif\" font-size=\"14.00\">Age &lt;= 1.5</text>\n",
       "<text text-anchor=\"middle\" x=\"366.5\" y=\"-230.8\" font-family=\"Helvetica,sans-Serif\" font-size=\"14.00\">gini = 0.312</text>\n",
       "<text text-anchor=\"middle\" x=\"366.5\" y=\"-215.8\" font-family=\"Helvetica,sans-Serif\" font-size=\"14.00\">samples = 465</text>\n",
       "<text text-anchor=\"middle\" x=\"366.5\" y=\"-200.8\" font-family=\"Helvetica,sans-Serif\" font-size=\"14.00\">value = [375, 90]</text>\n",
       "</g>\n",
       "<!-- 0&#45;&gt;2 -->\n",
       "<g id=\"edge6\" class=\"edge\">\n",
       "<title>0&#45;&gt;2</title>\n",
       "<path fill=\"none\" stroke=\"black\" d=\"M287.49,-296.88C298.01,-287.71 309.55,-277.65 320.48,-268.12\"/>\n",
       "<polygon fill=\"black\" stroke=\"black\" points=\"323.07,-270.51 328.3,-261.3 318.47,-265.23 323.07,-270.51\"/>\n",
       "<text text-anchor=\"middle\" x=\"326.6\" y=\"-282.54\" font-family=\"Helvetica,sans-Serif\" font-size=\"14.00\">False</text>\n",
       "</g>\n",
       "<!-- 3 -->\n",
       "<g id=\"node3\" class=\"node\">\n",
       "<title>3</title>\n",
       "<polygon fill=\"#43a2e6\" stroke=\"black\" points=\"109,-149.5 0,-149.5 0,-96.5 109,-96.5 109,-149.5\"/>\n",
       "<text text-anchor=\"middle\" x=\"54.5\" y=\"-134.3\" font-family=\"Helvetica,sans-Serif\" font-size=\"14.00\">gini = 0.091</text>\n",
       "<text text-anchor=\"middle\" x=\"54.5\" y=\"-119.3\" font-family=\"Helvetica,sans-Serif\" font-size=\"14.00\">samples = 125</text>\n",
       "<text text-anchor=\"middle\" x=\"54.5\" y=\"-104.3\" font-family=\"Helvetica,sans-Serif\" font-size=\"14.00\">value = [6, 119]</text>\n",
       "</g>\n",
       "<!-- 1&#45;&gt;3 -->\n",
       "<g id=\"edge2\" class=\"edge\">\n",
       "<title>1&#45;&gt;3</title>\n",
       "<path fill=\"none\" stroke=\"black\" d=\"M140.94,-192.88C126.04,-181.01 109.27,-167.65 94.5,-155.88\"/>\n",
       "<polygon fill=\"black\" stroke=\"black\" points=\"96.53,-153.01 86.53,-149.52 92.16,-158.49 96.53,-153.01\"/>\n",
       "</g>\n",
       "<!-- 4 -->\n",
       "<g id=\"node4\" class=\"node\">\n",
       "<title>4</title>\n",
       "<polygon fill=\"#ecf6fd\" stroke=\"black\" points=\"237.5,-157 127.5,-157 127.5,-89 237.5,-89 237.5,-157\"/>\n",
       "<text text-anchor=\"middle\" x=\"182.5\" y=\"-141.8\" font-family=\"Helvetica,sans-Serif\" font-size=\"14.00\">Fare &lt;= 23.35</text>\n",
       "<text text-anchor=\"middle\" x=\"182.5\" y=\"-126.8\" font-family=\"Helvetica,sans-Serif\" font-size=\"14.00\">gini = 0.499</text>\n",
       "<text text-anchor=\"middle\" x=\"182.5\" y=\"-111.8\" font-family=\"Helvetica,sans-Serif\" font-size=\"14.00\">samples = 122</text>\n",
       "<text text-anchor=\"middle\" x=\"182.5\" y=\"-96.8\" font-family=\"Helvetica,sans-Serif\" font-size=\"14.00\">value = [58, 64]</text>\n",
       "</g>\n",
       "<!-- 1&#45;&gt;4 -->\n",
       "<g id=\"edge3\" class=\"edge\">\n",
       "<title>1&#45;&gt;4</title>\n",
       "<path fill=\"none\" stroke=\"black\" d=\"M182.5,-192.88C182.5,-184.78 182.5,-175.98 182.5,-167.47\"/>\n",
       "<polygon fill=\"black\" stroke=\"black\" points=\"186,-167.3 182.5,-157.3 179,-167.3 186,-167.3\"/>\n",
       "</g>\n",
       "<!-- 5 -->\n",
       "<g id=\"node5\" class=\"node\">\n",
       "<title>5</title>\n",
       "<polygon fill=\"#aed7f4\" stroke=\"black\" points=\"113.5,-53 3.5,-53 3.5,0 113.5,0 113.5,-53\"/>\n",
       "<text text-anchor=\"middle\" x=\"58.5\" y=\"-37.8\" font-family=\"Helvetica,sans-Serif\" font-size=\"14.00\">gini = 0.467</text>\n",
       "<text text-anchor=\"middle\" x=\"58.5\" y=\"-22.8\" font-family=\"Helvetica,sans-Serif\" font-size=\"14.00\">samples = 97</text>\n",
       "<text text-anchor=\"middle\" x=\"58.5\" y=\"-7.8\" font-family=\"Helvetica,sans-Serif\" font-size=\"14.00\">value = [36, 61]</text>\n",
       "</g>\n",
       "<!-- 4&#45;&gt;5 -->\n",
       "<g id=\"edge4\" class=\"edge\">\n",
       "<title>4&#45;&gt;5</title>\n",
       "<path fill=\"none\" stroke=\"black\" d=\"M139.13,-88.95C126.53,-79.34 112.79,-68.87 100.29,-59.34\"/>\n",
       "<polygon fill=\"black\" stroke=\"black\" points=\"102.35,-56.51 92.27,-53.24 98.1,-62.08 102.35,-56.51\"/>\n",
       "</g>\n",
       "<!-- 6 -->\n",
       "<g id=\"node6\" class=\"node\">\n",
       "<title>6</title>\n",
       "<polygon fill=\"#e99254\" stroke=\"black\" points=\"233.5,-53 131.5,-53 131.5,0 233.5,0 233.5,-53\"/>\n",
       "<text text-anchor=\"middle\" x=\"182.5\" y=\"-37.8\" font-family=\"Helvetica,sans-Serif\" font-size=\"14.00\">gini = 0.211</text>\n",
       "<text text-anchor=\"middle\" x=\"182.5\" y=\"-22.8\" font-family=\"Helvetica,sans-Serif\" font-size=\"14.00\">samples = 25</text>\n",
       "<text text-anchor=\"middle\" x=\"182.5\" y=\"-7.8\" font-family=\"Helvetica,sans-Serif\" font-size=\"14.00\">value = [22, 3]</text>\n",
       "</g>\n",
       "<!-- 4&#45;&gt;6 -->\n",
       "<g id=\"edge5\" class=\"edge\">\n",
       "<title>4&#45;&gt;6</title>\n",
       "<path fill=\"none\" stroke=\"black\" d=\"M182.5,-88.95C182.5,-80.72 182.5,-71.85 182.5,-63.48\"/>\n",
       "<polygon fill=\"black\" stroke=\"black\" points=\"186,-63.24 182.5,-53.24 179,-63.24 186,-63.24\"/>\n",
       "</g>\n",
       "<!-- 7 -->\n",
       "<g id=\"node8\" class=\"node\">\n",
       "<title>7</title>\n",
       "<polygon fill=\"#d5eaf9\" stroke=\"black\" points=\"421,-157 312,-157 312,-89 421,-89 421,-157\"/>\n",
       "<text text-anchor=\"middle\" x=\"366.5\" y=\"-141.8\" font-family=\"Helvetica,sans-Serif\" font-size=\"14.00\">SibSp &lt;= 2.5</text>\n",
       "<text text-anchor=\"middle\" x=\"366.5\" y=\"-126.8\" font-family=\"Helvetica,sans-Serif\" font-size=\"14.00\">gini = 0.493</text>\n",
       "<text text-anchor=\"middle\" x=\"366.5\" y=\"-111.8\" font-family=\"Helvetica,sans-Serif\" font-size=\"14.00\">samples = 25</text>\n",
       "<text text-anchor=\"middle\" x=\"366.5\" y=\"-96.8\" font-family=\"Helvetica,sans-Serif\" font-size=\"14.00\">value = [11, 14]</text>\n",
       "</g>\n",
       "<!-- 2&#45;&gt;7 -->\n",
       "<g id=\"edge7\" class=\"edge\">\n",
       "<title>2&#45;&gt;7</title>\n",
       "<path fill=\"none\" stroke=\"black\" d=\"M366.5,-192.88C366.5,-184.78 366.5,-175.98 366.5,-167.47\"/>\n",
       "<polygon fill=\"black\" stroke=\"black\" points=\"370,-167.3 366.5,-157.3 363,-167.3 370,-167.3\"/>\n",
       "</g>\n",
       "<!-- 8 -->\n",
       "<g id=\"node11\" class=\"node\">\n",
       "<title>8</title>\n",
       "<polygon fill=\"#ea9b62\" stroke=\"black\" points=\"605,-157 488,-157 488,-89 605,-89 605,-157\"/>\n",
       "<text text-anchor=\"middle\" x=\"546.5\" y=\"-141.8\" font-family=\"Helvetica,sans-Serif\" font-size=\"14.00\">Pclass &lt;= 1.5</text>\n",
       "<text text-anchor=\"middle\" x=\"546.5\" y=\"-126.8\" font-family=\"Helvetica,sans-Serif\" font-size=\"14.00\">gini = 0.286</text>\n",
       "<text text-anchor=\"middle\" x=\"546.5\" y=\"-111.8\" font-family=\"Helvetica,sans-Serif\" font-size=\"14.00\">samples = 440</text>\n",
       "<text text-anchor=\"middle\" x=\"546.5\" y=\"-96.8\" font-family=\"Helvetica,sans-Serif\" font-size=\"14.00\">value = [364, 76]</text>\n",
       "</g>\n",
       "<!-- 2&#45;&gt;8 -->\n",
       "<g id=\"edge10\" class=\"edge\">\n",
       "<title>2&#45;&gt;8</title>\n",
       "<path fill=\"none\" stroke=\"black\" d=\"M424.94,-192.88C442.16,-183.12 461.15,-172.37 478.89,-162.31\"/>\n",
       "<polygon fill=\"black\" stroke=\"black\" points=\"481.07,-165.1 488.04,-157.12 477.62,-159.01 481.07,-165.1\"/>\n",
       "</g>\n",
       "<!-- 9 -->\n",
       "<g id=\"node9\" class=\"node\">\n",
       "<title>9</title>\n",
       "<polygon fill=\"#399de5\" stroke=\"black\" points=\"353.5,-53 251.5,-53 251.5,0 353.5,0 353.5,-53\"/>\n",
       "<text text-anchor=\"middle\" x=\"302.5\" y=\"-37.8\" font-family=\"Helvetica,sans-Serif\" font-size=\"14.00\">gini = 0.0</text>\n",
       "<text text-anchor=\"middle\" x=\"302.5\" y=\"-22.8\" font-family=\"Helvetica,sans-Serif\" font-size=\"14.00\">samples = 13</text>\n",
       "<text text-anchor=\"middle\" x=\"302.5\" y=\"-7.8\" font-family=\"Helvetica,sans-Serif\" font-size=\"14.00\">value = [0, 13]</text>\n",
       "</g>\n",
       "<!-- 7&#45;&gt;9 -->\n",
       "<g id=\"edge8\" class=\"edge\">\n",
       "<title>7&#45;&gt;9</title>\n",
       "<path fill=\"none\" stroke=\"black\" d=\"M344.12,-88.95C338.11,-80.07 331.6,-70.46 325.55,-61.54\"/>\n",
       "<polygon fill=\"black\" stroke=\"black\" points=\"328.44,-59.55 319.93,-53.24 322.64,-63.48 328.44,-59.55\"/>\n",
       "</g>\n",
       "<!-- 10 -->\n",
       "<g id=\"node10\" class=\"node\">\n",
       "<title>10</title>\n",
       "<polygon fill=\"#e78c4b\" stroke=\"black\" points=\"473,-53 372,-53 372,0 473,0 473,-53\"/>\n",
       "<text text-anchor=\"middle\" x=\"422.5\" y=\"-37.8\" font-family=\"Helvetica,sans-Serif\" font-size=\"14.00\">gini = 0.153</text>\n",
       "<text text-anchor=\"middle\" x=\"422.5\" y=\"-22.8\" font-family=\"Helvetica,sans-Serif\" font-size=\"14.00\">samples = 12</text>\n",
       "<text text-anchor=\"middle\" x=\"422.5\" y=\"-7.8\" font-family=\"Helvetica,sans-Serif\" font-size=\"14.00\">value = [11, 1]</text>\n",
       "</g>\n",
       "<!-- 7&#45;&gt;10 -->\n",
       "<g id=\"edge9\" class=\"edge\">\n",
       "<title>7&#45;&gt;10</title>\n",
       "<path fill=\"none\" stroke=\"black\" d=\"M386.09,-88.95C391.24,-80.26 396.8,-70.86 402,-62.09\"/>\n",
       "<polygon fill=\"black\" stroke=\"black\" points=\"405.16,-63.62 407.25,-53.24 399.14,-60.06 405.16,-63.62\"/>\n",
       "</g>\n",
       "<!-- 11 -->\n",
       "<g id=\"node12\" class=\"node\">\n",
       "<title>11</title>\n",
       "<polygon fill=\"#f3c5a4\" stroke=\"black\" points=\"601.5,-53 491.5,-53 491.5,0 601.5,0 601.5,-53\"/>\n",
       "<text text-anchor=\"middle\" x=\"546.5\" y=\"-37.8\" font-family=\"Helvetica,sans-Serif\" font-size=\"14.00\">gini = 0.455</text>\n",
       "<text text-anchor=\"middle\" x=\"546.5\" y=\"-22.8\" font-family=\"Helvetica,sans-Serif\" font-size=\"14.00\">samples = 100</text>\n",
       "<text text-anchor=\"middle\" x=\"546.5\" y=\"-7.8\" font-family=\"Helvetica,sans-Serif\" font-size=\"14.00\">value = [65, 35]</text>\n",
       "</g>\n",
       "<!-- 8&#45;&gt;11 -->\n",
       "<g id=\"edge11\" class=\"edge\">\n",
       "<title>8&#45;&gt;11</title>\n",
       "<path fill=\"none\" stroke=\"black\" d=\"M546.5,-88.95C546.5,-80.72 546.5,-71.85 546.5,-63.48\"/>\n",
       "<polygon fill=\"black\" stroke=\"black\" points=\"550,-63.24 546.5,-53.24 543,-63.24 550,-63.24\"/>\n",
       "</g>\n",
       "<!-- 12 -->\n",
       "<g id=\"node13\" class=\"node\">\n",
       "<title>12</title>\n",
       "<polygon fill=\"#e99254\" stroke=\"black\" points=\"737,-53 620,-53 620,0 737,0 737,-53\"/>\n",
       "<text text-anchor=\"middle\" x=\"678.5\" y=\"-37.8\" font-family=\"Helvetica,sans-Serif\" font-size=\"14.00\">gini = 0.212</text>\n",
       "<text text-anchor=\"middle\" x=\"678.5\" y=\"-22.8\" font-family=\"Helvetica,sans-Serif\" font-size=\"14.00\">samples = 340</text>\n",
       "<text text-anchor=\"middle\" x=\"678.5\" y=\"-7.8\" font-family=\"Helvetica,sans-Serif\" font-size=\"14.00\">value = [299, 41]</text>\n",
       "</g>\n",
       "<!-- 8&#45;&gt;12 -->\n",
       "<g id=\"edge12\" class=\"edge\">\n",
       "<title>8&#45;&gt;12</title>\n",
       "<path fill=\"none\" stroke=\"black\" d=\"M592.67,-88.95C606.21,-79.25 620.99,-68.68 634.4,-59.07\"/>\n",
       "<polygon fill=\"black\" stroke=\"black\" points=\"636.46,-61.9 642.55,-53.24 632.38,-56.21 636.46,-61.9\"/>\n",
       "</g>\n",
       "</g>\n",
       "</svg>\n"
      ],
      "text/plain": [
       "<graphviz.sources.Source at 0x172e2425730>"
      ]
     },
     "execution_count": 17,
     "metadata": {},
     "output_type": "execute_result"
    }
   ],
   "source": [
    "model_dir = 'model'\n",
    "if not os.path.exists(model_dir):\n",
    "    os.makedirs(model_dir)\n",
    "    \n",
    "export_graphviz(best_model, \n",
    "                out_file=f'{model_dir}/tree4.dot', \n",
    "#                 class_names=iris.target_names, \n",
    "                feature_names=[col for col in df_trn.columns if col != 'Survived'], \n",
    "                impurity=True, \n",
    "                filled=True)\n",
    "\n",
    "with open(f'{model_dir}/tree4.dot') as f:\n",
    "    dot_graph = f.read()\n",
    "graphviz.Source(dot_graph)"
   ]
  },
  {
   "cell_type": "markdown",
   "id": "3e385246",
   "metadata": {},
   "source": [
    "### 변수 중요도 확인하기"
   ]
  },
  {
   "cell_type": "code",
   "execution_count": 18,
   "id": "a975fde7",
   "metadata": {},
   "outputs": [],
   "source": [
    "feature_dict = dict(zip([col for col in df.columns if col != 'Survived'], best_model.feature_importances_))"
   ]
  },
  {
   "cell_type": "code",
   "execution_count": 19,
   "id": "0505bed6",
   "metadata": {},
   "outputs": [
    {
     "data": {
      "text/plain": [
       "[('SibSp', 0.6226819281566287),\n",
       " ('Age', 0.19772552891370265),\n",
       " ('PassengerId', 0.06755940086321775),\n",
       " ('Name', 0.0663188623086861),\n",
       " ('Sex', 0.04571427975776482),\n",
       " ('Pclass', 0.0)]"
      ]
     },
     "execution_count": 19,
     "metadata": {},
     "output_type": "execute_result"
    }
   ],
   "source": [
    "import operator\n",
    "sorted(feature_dict.items(), key = operator.itemgetter(1), reverse=True)"
   ]
  },
  {
   "cell_type": "markdown",
   "id": "12eae5a3",
   "metadata": {},
   "source": [
    "- <span style = 'font-size:1.2em;line-height:1.5em'>조금 더 이쁘게 그림으로 표기하도록 하겠습니다.</span>"
   ]
  },
  {
   "cell_type": "code",
   "execution_count": 20,
   "id": "0b279684",
   "metadata": {
    "scrolled": true
   },
   "outputs": [
    {
     "data": {
      "text/plain": [
       "<AxesSubplot:>"
      ]
     },
     "execution_count": 20,
     "metadata": {},
     "output_type": "execute_result"
    },
    {
     "data": {
      "image/png": "[encoded data removed]",
      "text/plain": [
       "<Figure size 432x288 with 1 Axes>"
      ]
     },
     "metadata": {
      "needs_background": "light"
     },
     "output_type": "display_data"
    }
   ],
   "source": [
    "import seaborn as sns\n",
    "%matplotlib inline\n",
    "\n",
    "sns.barplot(x=best_model.feature_importances_, y=[col for col in df_trn.columns if col != 'Survived'])"
   ]
  },
  {
   "cell_type": "code",
   "execution_count": null,
   "id": "e3bbc8d6",
   "metadata": {},
   "outputs": [],
   "source": []
  }
 ],
 "metadata": {
  "kernelspec": {
   "display_name": "Python 3 (ipykernel)",
   "language": "python",
   "name": "python3"
  },
  "language_info": {
   "codemirror_mode": {
    "name": "ipython",
    "version": 3
   },
   "file_extension": ".py",
   "mimetype": "text/x-python",
   "name": "python",
   "nbconvert_exporter": "python",
   "pygments_lexer": "ipython3",
   "version": "3.8.17"
  }
 },
 "nbformat": 4,
 "nbformat_minor": 5
}
